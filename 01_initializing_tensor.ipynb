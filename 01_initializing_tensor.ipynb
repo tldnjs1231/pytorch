{
 "cells": [
  {
   "cell_type": "code",
   "execution_count": 1,
   "metadata": {},
   "outputs": [],
   "source": [
    "import torch\n",
    "import numpy as np"
   ]
  },
  {
   "cell_type": "code",
   "execution_count": 2,
   "metadata": {},
   "outputs": [],
   "source": [
    "device = 'cuda' if torch.cuda.is_available() else 'cpu'\n",
    "\n",
    "# Initialize a (2 x 3) tensor\n",
    "tensor = torch.tensor([[1, 2, 3],\n",
    "                     [4, 5, 6]],\n",
    "                     dtype=torch.float32, device=device, requires_grad=True)"
   ]
  },
  {
   "cell_type": "code",
   "execution_count": 3,
   "metadata": {},
   "outputs": [
    {
     "name": "stdout",
     "output_type": "stream",
     "text": [
      "General information:\n",
      "tensor([[1., 2., 3.],\n",
      "        [4., 5., 6.]], requires_grad=True)\n",
      "Data type: torch.float32\n",
      "Device: cpu\n",
      "Shape: torch.Size([2, 3])\n",
      "Requires gradient (trainable): True\n"
     ]
    }
   ],
   "source": [
    "# Print tensor information\n",
    "print(f'General information:\\n{tensor}')\n",
    "print(f'Data type: {tensor.dtype}')\n",
    "print(f'Device: {tensor.device}')\n",
    "print(f'Shape: {tensor.shape}') # tensor.size()\n",
    "print(f'Requires gradient (trainable): {tensor.requires_grad}')"
   ]
  },
  {
   "cell_type": "code",
   "execution_count": 4,
   "metadata": {},
   "outputs": [
    {
     "name": "stdout",
     "output_type": "stream",
     "text": [
      "x1:\n",
      "tensor([[0., 0., 0.],\n",
      "        [0., 0., 0.],\n",
      "        [0., 0., 0.]])\n",
      "x2:\n",
      "tensor([[0., 0., 0.],\n",
      "        [0., 0., 0.],\n",
      "        [0., 0., 0.]])\n",
      "x3:\n",
      "tensor([[0.6163, 0.5538, 0.8472],\n",
      "        [0.7847, 0.1056, 0.8945],\n",
      "        [0.2283, 0.4600, 0.8859]])\n",
      "x4:\n",
      "tensor([[1., 1., 1.],\n",
      "        [1., 1., 1.],\n",
      "        [1., 1., 1.]])\n",
      "x5:\n",
      "tensor([[1., 0., 0., 0., 0.],\n",
      "        [0., 1., 0., 0., 0.],\n",
      "        [0., 0., 1., 0., 0.],\n",
      "        [0., 0., 0., 1., 0.],\n",
      "        [0., 0., 0., 0., 1.]])\n"
     ]
    }
   ],
   "source": [
    "# Tensor initialization methods 1\n",
    "x1 = torch.empty(size=(3, 3)) # uninitialized data\n",
    "x2 = torch.zeros((3, 3)) # values of 0\n",
    "x3 = torch.rand((3, 3)) # values from uniform distribution in interval [0, 1)\n",
    "x4 = torch.ones((3, 3)) # values of 1\n",
    "x5 = torch.eye(5, 5) # identity matrix (I = eye)\n",
    "\n",
    "tensors = [x1, x2, x3, x4, x5]\n",
    "\n",
    "for i, t in enumerate(tensors, start=1):\n",
    "    print(f'x{i}:\\n{t}')"
   ]
  },
  {
   "cell_type": "code",
   "execution_count": 5,
   "metadata": {},
   "outputs": [
    {
     "name": "stdout",
     "output_type": "stream",
     "text": [
      "x6:\n",
      "tensor([0, 1, 2, 3, 4])\n",
      "x7:\n",
      "tensor([ 0,  1,  2,  3,  4,  5,  6,  7,  8,  9, 10])\n",
      "x8:\n",
      "tensor([0.1000, 0.2000, 0.3000, 0.4000, 0.5000, 0.6000, 0.7000, 0.8000, 0.9000,\n",
      "        1.0000])\n",
      "x9:\n",
      "tensor([[ 0.5717,  0.2616, -1.3283, -0.5141,  1.2439]])\n",
      "x10:\n",
      "tensor([[0.8847, 0.3541, 0.2201, 0.0490, 0.5548]])\n",
      "x11:\n",
      "tensor([[1., 0., 0.],\n",
      "        [0., 1., 0.],\n",
      "        [0., 0., 1.]])\n"
     ]
    }
   ],
   "source": [
    "# Tensor initialization methods 2\n",
    "x6 = torch.arange(start=0, end=5, step=1)\n",
    "x7 = torch.arange(11)\n",
    "x8 = torch.linspace(start=0.1, end=1, steps=10) # [0.1, 0.2, ..., 1]\n",
    "x9 = torch.empty(size=(1, 5)).normal_(mean=0, std=1) # normally distributed (mean=0, std=1)\n",
    "x10 = torch.empty(size=(1, 5)).uniform_(0, 1) # values from a uniform distribution (low=0, high=1)\n",
    "x11 = torch.diag(torch.ones(3)) # diagonal matrix (3 x 3)\n",
    "\n",
    "tensors = [x6, x7, x8, x9, x10, x11]\n",
    "\n",
    "for i, t in enumerate(tensors, start=6):\n",
    "    print(f'x{i}:\\n{t}')"
   ]
  },
  {
   "cell_type": "code",
   "execution_count": 6,
   "metadata": {},
   "outputs": [
    {
     "name": "stdout",
     "output_type": "stream",
     "text": [
      "Boolean (1 if non-zero): tensor([False,  True,  True,  True])\n",
      "int16: tensor([0, 1, 2, 3], dtype=torch.int16)\n",
      "int64: tensor([0, 1, 2, 3])\n",
      "float16: tensor([0., 1., 2., 3.], dtype=torch.float16)\n",
      "float32: tensor([0., 1., 2., 3.])\n",
      "float64: tensor([0., 1., 2., 3.], dtype=torch.float64)\n"
     ]
    }
   ],
   "source": [
    "# Manipulate tensor types\n",
    "# int64, float32 very important, used super often\n",
    "\n",
    "tensor = torch.arange(4) # default: int64\n",
    "\n",
    "print(f'Boolean (1 if non-zero): {tensor.bool()}')\n",
    "print(f'int16: {tensor.short()}')\n",
    "print(f'int64: {tensor.long()}')\n",
    "print(f'float16: {tensor.half()}')\n",
    "print(f'float32: {tensor.float()}')\n",
    "print(f'float64: {tensor.double()}')"
   ]
  },
  {
   "cell_type": "code",
   "execution_count": 7,
   "metadata": {},
   "outputs": [
    {
     "name": "stdout",
     "output_type": "stream",
     "text": [
      "[[0. 0. 0. 0. 0.]\n",
      " [0. 0. 0. 0. 0.]\n",
      " [0. 0. 0. 0. 0.]\n",
      " [0. 0. 0. 0. 0.]\n",
      " [0. 0. 0. 0. 0.]] \n",
      "\n",
      "tensor([[0., 0., 0., 0., 0.],\n",
      "        [0., 0., 0., 0., 0.],\n",
      "        [0., 0., 0., 0., 0.],\n",
      "        [0., 0., 0., 0., 0.],\n",
      "        [0., 0., 0., 0., 0.]], dtype=torch.float64) \n",
      "\n",
      "[[0. 0. 0. 0. 0.]\n",
      " [0. 0. 0. 0. 0.]\n",
      " [0. 0. 0. 0. 0.]\n",
      " [0. 0. 0. 0. 0.]\n",
      " [0. 0. 0. 0. 0.]] \n",
      "\n"
     ]
    }
   ],
   "source": [
    "# Array to tensor conversion and vice-versa\n",
    "np_array = np.zeros((5, 5))\n",
    "tensor = torch.from_numpy(np_array)\n",
    "np_array_re = tensor.numpy() # same as np_array (perhaps with numerical round-offs)\n",
    "\n",
    "print(np_array, '\\n')\n",
    "print(tensor, '\\n')\n",
    "print(np_array_re, '\\n')"
   ]
  }
 ],
 "metadata": {
  "kernelspec": {
   "display_name": "Python 3",
   "language": "python",
   "name": "python3"
  },
  "language_info": {
   "codemirror_mode": {
    "name": "ipython",
    "version": 3
   },
   "file_extension": ".py",
   "mimetype": "text/x-python",
   "name": "python",
   "nbconvert_exporter": "python",
   "pygments_lexer": "ipython3",
   "version": "3.9.12"
  }
 },
 "nbformat": 4,
 "nbformat_minor": 2
}
