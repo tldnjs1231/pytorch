{
 "cells": [
  {
   "cell_type": "code",
   "execution_count": 1,
   "metadata": {},
   "outputs": [],
   "source": [
    "import torch"
   ]
  },
  {
   "cell_type": "code",
   "execution_count": 2,
   "metadata": {},
   "outputs": [
    {
     "data": {
      "text/plain": [
       "torch.Size([9])"
      ]
     },
     "execution_count": 2,
     "metadata": {},
     "output_type": "execute_result"
    }
   ],
   "source": [
    "x = torch.arange(9)\n",
    "x.shape"
   ]
  },
  {
   "cell_type": "code",
   "execution_count": 3,
   "metadata": {},
   "outputs": [
    {
     "name": "stdout",
     "output_type": "stream",
     "text": [
      "tensor([[0, 1, 2],\n",
      "        [3, 4, 5],\n",
      "        [6, 7, 8]])\n",
      "tensor([[0, 1, 2],\n",
      "        [3, 4, 5],\n",
      "        [6, 7, 8]])\n"
     ]
    }
   ],
   "source": [
    "x_3x3_view = x.view(3, 3) # only works for contiguous tensors\n",
    "x_3x3_reshape = x.reshape(3, 3) # copy the tensor to make it contiguously stored\n",
    "                                # (might come with some performance loss)\n",
    "\n",
    "print(x_3x3_view)\n",
    "print(x_3x3_reshape)"
   ]
  },
  {
   "cell_type": "code",
   "execution_count": 4,
   "metadata": {},
   "outputs": [
    {
     "name": "stdout",
     "output_type": "stream",
     "text": [
      "tensor([[0, 3, 6],\n",
      "        [1, 4, 7],\n",
      "        [2, 5, 8]])\n"
     ]
    },
    {
     "data": {
      "text/plain": [
       "False"
      ]
     },
     "execution_count": 4,
     "metadata": {},
     "output_type": "execute_result"
    }
   ],
   "source": [
    "x = torch.arange(9)\n",
    "x = x.view(3, 3)\n",
    "\n",
    "y = x.T # x.t()\n",
    "print(y)\n",
    "y.is_contiguous()"
   ]
  },
  {
   "cell_type": "code",
   "execution_count": 5,
   "metadata": {},
   "outputs": [
    {
     "data": {
      "text/plain": [
       "tensor([[0, 3, 6, 1, 4, 7, 2, 5, 8]])"
      ]
     },
     "execution_count": 5,
     "metadata": {},
     "output_type": "execute_result"
    }
   ],
   "source": [
    "y.reshape(1, -1) # view() will cause an error for incontiguous tensors, reshape() won't"
   ]
  },
  {
   "cell_type": "code",
   "execution_count": 6,
   "metadata": {},
   "outputs": [
    {
     "name": "stdout",
     "output_type": "stream",
     "text": [
      "tensor([[0, 3, 6],\n",
      "        [1, 4, 7],\n",
      "        [2, 5, 8]])\n"
     ]
    },
    {
     "data": {
      "text/plain": [
       "tensor([0, 3, 6, 1, 4, 7, 2, 5, 8])"
      ]
     },
     "execution_count": 6,
     "metadata": {},
     "output_type": "execute_result"
    }
   ],
   "source": [
    "x = torch.arange(9).view(3, 3)\n",
    "y = x.T.contiguous()\n",
    "\n",
    "print(y)\n",
    "y.view(9) # calling contiguous() before view() works"
   ]
  },
  {
   "cell_type": "code",
   "execution_count": 7,
   "metadata": {},
   "outputs": [
    {
     "name": "stdout",
     "output_type": "stream",
     "text": [
      "tensor([[0.3127, 0.4596, 0.4548, 0.4915, 0.0937],\n",
      "        [0.3594, 0.9960, 0.6443, 0.9147, 0.7598]])\n",
      "tensor([[0.6737, 0.3673, 0.1451, 0.4760, 0.5508],\n",
      "        [0.1113, 0.5673, 0.9159, 0.8427, 0.4523]])\n",
      "\n",
      "tensor([[0.3127, 0.4596, 0.4548, 0.4915, 0.0937],\n",
      "        [0.3594, 0.9960, 0.6443, 0.9147, 0.7598],\n",
      "        [0.6737, 0.3673, 0.1451, 0.4760, 0.5508],\n",
      "        [0.1113, 0.5673, 0.9159, 0.8427, 0.4523]])\n",
      "tensor([[0.3127, 0.4596, 0.4548, 0.4915, 0.0937, 0.6737, 0.3673, 0.1451, 0.4760,\n",
      "         0.5508],\n",
      "        [0.3594, 0.9960, 0.6443, 0.9147, 0.7598, 0.1113, 0.5673, 0.9159, 0.8427,\n",
      "         0.4523]])\n",
      "torch.Size([4, 5]) torch.Size([2, 10])\n"
     ]
    }
   ],
   "source": [
    "# Add dimensions of two tensors together (concat)\n",
    "x1 = torch.rand(2, 5)\n",
    "x2 = torch.rand(2, 5)\n",
    "\n",
    "z1 = torch.cat((x1, x2), dim=0)\n",
    "z2 = torch.cat((x1, x2), dim=1)\n",
    "\n",
    "print(x1)\n",
    "print(x2)\n",
    "print()\n",
    "print(z1)\n",
    "print(z2)\n",
    "print(z1.shape, z2.shape)"
   ]
  },
  {
   "cell_type": "code",
   "execution_count": 8,
   "metadata": {},
   "outputs": [
    {
     "data": {
      "text/plain": [
       "tensor([0.3127, 0.4596, 0.4548, 0.4915, 0.0937, 0.3594, 0.9960, 0.6443, 0.9147,\n",
       "        0.7598])"
      ]
     },
     "execution_count": 8,
     "metadata": {},
     "output_type": "execute_result"
    }
   ],
   "source": [
    "# Unroll or flatten the tensors\n",
    "z = x1.view(-1) # unroll x1 into one long vector with 10 elements\n",
    "z"
   ]
  },
  {
   "cell_type": "code",
   "execution_count": 9,
   "metadata": {},
   "outputs": [
    {
     "data": {
      "text/plain": [
       "torch.Size([64, 10])"
      ]
     },
     "execution_count": 9,
     "metadata": {},
     "output_type": "execute_result"
    }
   ],
   "source": [
    "batch = 64\n",
    "x = torch.rand((batch, 2, 5))\n",
    "z = x.view(batch, -1) # keep the batch size as is and unroll others (used super often)\n",
    "z.shape"
   ]
  },
  {
   "cell_type": "code",
   "execution_count": 10,
   "metadata": {},
   "outputs": [
    {
     "name": "stdout",
     "output_type": "stream",
     "text": [
      "torch.Size([64, 2, 5]) torch.Size([64, 5, 2]) torch.Size([5, 2, 64])\n"
     ]
    }
   ],
   "source": [
    "# Switch x axis (permute, transpose)\n",
    "x = torch.rand(batch, 2, 5)\n",
    "z1 = x.permute(0, 2, 1)\n",
    "z2 = x.transpose(0, 2) # switch dimension 0 and dimension 2\n",
    "                       # (only works when switching two)\n",
    "\n",
    "print(x.shape, z1.shape, z2.shape)"
   ]
  },
  {
   "cell_type": "code",
   "execution_count": 11,
   "metadata": {},
   "outputs": [
    {
     "name": "stdout",
     "output_type": "stream",
     "text": [
      "torch.Size([64, 1, 5]) torch.Size([64, 1, 5])\n",
      "torch.Size([64, 2, 3]) torch.Size([64, 2, 2])\n"
     ]
    }
   ],
   "source": [
    "# Split dimensions into chuncks\n",
    "z1 = torch.chunk(x, chunks=2, dim=1)\n",
    "z2 = torch.chunk(x, chunks=2, dim=2)\n",
    "\n",
    "print(z1[0].shape, z1[0].shape)\n",
    "print(z2[0].shape, z2[1].shape) # split into 3 and 2 since 5 can't be divided by 2"
   ]
  },
  {
   "cell_type": "code",
   "execution_count": 12,
   "metadata": {},
   "outputs": [
    {
     "name": "stdout",
     "output_type": "stream",
     "text": [
      "torch.Size([10]) torch.Size([1, 10]) torch.Size([10, 1]) torch.Size([1, 1, 10])\n"
     ]
    }
   ],
   "source": [
    "# Add dimensions (unsqueeze)\n",
    "x = torch.arange(10)\n",
    "x1 = x.unsqueeze(0) # (1 x 10)\n",
    "x2 = x.unsqueeze(1) # (10 x 1)\n",
    "x3 = x.unsqueeze(0).unsqueeze(1) # (1 x 1 x 10)\n",
    "\n",
    "print(x.shape, x1.shape, x2.shape, x3.shape)"
   ]
  },
  {
   "cell_type": "code",
   "execution_count": 13,
   "metadata": {},
   "outputs": [
    {
     "name": "stdout",
     "output_type": "stream",
     "text": [
      "torch.Size([1, 10]) torch.Size([1, 10]) torch.Size([1, 1, 10]) torch.Size([10])\n"
     ]
    }
   ],
   "source": [
    "# Remove dimensions (squeeze)\n",
    "z1 = x3.squeeze(0)\n",
    "z2 = x3.squeeze(1)\n",
    "z3 = x3.squeeze(2) # only works when the assigned dimension is 1\n",
    "z4 = x3.squeeze() # removes all dimensions with 1\n",
    "\n",
    "print(z1.shape, z2.shape, z3.shape, z4.shape)"
   ]
  }
 ],
 "metadata": {
  "kernelspec": {
   "display_name": "Python 3",
   "language": "python",
   "name": "python3"
  },
  "language_info": {
   "codemirror_mode": {
    "name": "ipython",
    "version": 3
   },
   "file_extension": ".py",
   "mimetype": "text/x-python",
   "name": "python",
   "nbconvert_exporter": "python",
   "pygments_lexer": "ipython3",
   "version": "3.9.12"
  }
 },
 "nbformat": 4,
 "nbformat_minor": 2
}
