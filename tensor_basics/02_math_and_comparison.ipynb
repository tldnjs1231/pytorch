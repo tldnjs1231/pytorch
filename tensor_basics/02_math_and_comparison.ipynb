{
 "cells": [
  {
   "cell_type": "code",
   "execution_count": 1,
   "metadata": {},
   "outputs": [],
   "source": [
    "import torch"
   ]
  },
  {
   "cell_type": "code",
   "execution_count": 2,
   "metadata": {},
   "outputs": [],
   "source": [
    "x = torch.tensor([1, 2, 3])\n",
    "y = torch.tensor([9, 8, 7])"
   ]
  },
  {
   "cell_type": "code",
   "execution_count": 3,
   "metadata": {},
   "outputs": [
    {
     "name": "stdout",
     "output_type": "stream",
     "text": [
      "tensor([10., 10., 10.]) tensor([10, 10, 10]) tensor([10, 10, 10])\n"
     ]
    }
   ],
   "source": [
    "# Addition\n",
    "z1 = torch.empty(3) # [0, 0, 0]\n",
    "torch.add(x, y, out=z1)\n",
    "\n",
    "z2 = torch.add(x, y)\n",
    "z3 = x + y\n",
    "\n",
    "print(z1, z2, z3)"
   ]
  },
  {
   "cell_type": "code",
   "execution_count": 4,
   "metadata": {},
   "outputs": [
    {
     "name": "stdout",
     "output_type": "stream",
     "text": [
      "tensor([-8, -6, -4]) tensor([0.1111, 0.2500, 0.4286])\n",
      "tensor([ 9, 16, 21]) tensor([ 9, 16, 21])\n"
     ]
    }
   ],
   "source": [
    "# Subtraction\n",
    "z1 = x - y\n",
    "\n",
    "# Division (element wise division if of equal shape)\n",
    "z2 = torch.true_divide(x, y)\n",
    "\n",
    "# Multiplication (element wise)\n",
    "z3 = torch.mul(x, y)\n",
    "z4 = x * y\n",
    "\n",
    "print(z1, z2)\n",
    "print(z3, z4)"
   ]
  },
  {
   "cell_type": "code",
   "execution_count": 5,
   "metadata": {},
   "outputs": [
    {
     "name": "stdout",
     "output_type": "stream",
     "text": [
      "tensor([0., 0., 0.]) tensor([1., 2., 3.])\n",
      "tensor([1., 2., 3.])\n",
      "tensor([2., 4., 6.]) tensor([2., 4., 6.])\n"
     ]
    }
   ],
   "source": [
    "# Inplace operations\n",
    "t = torch.zeros(3)\n",
    "t1 = t + x # not an inplace operation\n",
    "print(t, t1)\n",
    "\n",
    "t += x # inplace\n",
    "print(t)\n",
    "\n",
    "t2 = t.add_(x) # whenever followed by _ mutate the tensor inplace\n",
    "print(t, t2)"
   ]
  },
  {
   "cell_type": "code",
   "execution_count": 6,
   "metadata": {},
   "outputs": [
    {
     "name": "stdout",
     "output_type": "stream",
     "text": [
      "tensor([1, 4, 9]) tensor([1, 4, 9])\n"
     ]
    }
   ],
   "source": [
    "# Exponentiation (element wise if vector or matrices)\n",
    "z1 = x.pow(2)\n",
    "z2 = x**2\n",
    "\n",
    "print(z1, z2)"
   ]
  },
  {
   "cell_type": "code",
   "execution_count": 7,
   "metadata": {},
   "outputs": [
    {
     "name": "stdout",
     "output_type": "stream",
     "text": [
      "tensor([True, True, True]) tensor([False, False, False])\n"
     ]
    }
   ],
   "source": [
    "# Simple comparison\n",
    "z1 = x > 0\n",
    "z2 = x < 0\n",
    "\n",
    "print(z1, z2)"
   ]
  },
  {
   "cell_type": "code",
   "execution_count": 8,
   "metadata": {},
   "outputs": [
    {
     "name": "stdout",
     "output_type": "stream",
     "text": [
      "tensor([[1.4376, 1.7676, 1.2091],\n",
      "        [0.6480, 1.7530, 1.3276]])\n",
      "tensor([[1.4376, 1.7676, 1.2091],\n",
      "        [0.6480, 1.7530, 1.3276]])\n",
      "tensor([[1.4376, 1.7676, 1.2091],\n",
      "        [0.6480, 1.7530, 1.3276]])\n"
     ]
    }
   ],
   "source": [
    "# Matrix multiplication\n",
    "x1 = torch.rand((2, 5))\n",
    "x2 = torch.rand((5, 3))\n",
    "x3 = torch.mm(x1, x2) # if of equal shape\n",
    "x4 = x1.mm(x2)\n",
    "x5 = x1 @ x2 # same as mm()\n",
    "\n",
    "print(x3)\n",
    "print(x4)\n",
    "print(x5)"
   ]
  },
  {
   "cell_type": "code",
   "execution_count": 9,
   "metadata": {},
   "outputs": [
    {
     "name": "stdout",
     "output_type": "stream",
     "text": [
      "tensor([[1.4376, 1.7676, 1.2091],\n",
      "        [0.6480, 1.7530, 1.3276]])\n"
     ]
    }
   ],
   "source": [
    "x6 = torch.matmul(x1, x2) # broadcasting (works for matrices with different shapes)\n",
    "\n",
    "print(x6)"
   ]
  },
  {
   "cell_type": "code",
   "execution_count": 10,
   "metadata": {},
   "outputs": [
    {
     "name": "stdout",
     "output_type": "stream",
     "text": [
      "tensor([[0.3598, 0.7775, 0.1767, 0.4434, 0.0284],\n",
      "        [0.3064, 0.0081, 0.1160, 0.3029, 0.6937],\n",
      "        [0.0026, 0.8742, 0.7211, 0.7371, 0.4737],\n",
      "        [0.5187, 0.9970, 0.9748, 0.9327, 0.4236],\n",
      "        [0.2551, 0.4458, 0.6192, 0.0536, 0.2336]])\n",
      "tensor([[1.1931, 2.4236, 2.1672, 2.0000, 1.5762],\n",
      "        [0.8282, 1.8125, 1.5645, 1.6491, 1.3957],\n",
      "        [1.9017, 4.1596, 3.8198, 3.5098, 2.8556],\n",
      "        [2.6622, 5.5617, 5.0879, 4.8261, 3.9657],\n",
      "        [0.9654, 1.9722, 1.8675, 1.7115, 1.4699]])\n"
     ]
    }
   ],
   "source": [
    "# Matrix exponentiation\n",
    "t = torch.rand(5, 5)\n",
    "t1 = t.matrix_power(3)\n",
    "\n",
    "print(t)\n",
    "print(t1)"
   ]
  },
  {
   "cell_type": "code",
   "execution_count": 11,
   "metadata": {},
   "outputs": [
    {
     "name": "stdout",
     "output_type": "stream",
     "text": [
      "tensor(46) tensor(46)\n"
     ]
    }
   ],
   "source": [
    "# Dot product\n",
    "z1 = torch.dot(x, y)\n",
    "z2 = x @ y # also used to compute the dot product of two vectors\n",
    "\n",
    "print(z1, z2)"
   ]
  },
  {
   "cell_type": "code",
   "execution_count": 12,
   "metadata": {},
   "outputs": [
    {
     "name": "stdout",
     "output_type": "stream",
     "text": [
      "torch.Size([32, 10, 30])\n"
     ]
    }
   ],
   "source": [
    "# Batch matrix multiplication\n",
    "batch = 32\n",
    "n = 10\n",
    "m = 20\n",
    "p = 30\n",
    "\n",
    "t1 = torch.rand((batch, n, m))\n",
    "t2 = torch.rand((batch, m, p))\n",
    "\n",
    "out_bmm = torch.bmm(t1, t2) # (b x n x p)\n",
    "print(out_bmm.shape)"
   ]
  },
  {
   "cell_type": "code",
   "execution_count": 13,
   "metadata": {},
   "outputs": [
    {
     "name": "stdout",
     "output_type": "stream",
     "text": [
      "tensor([[-0.6354, -0.4328, -0.1144, -0.1992, -0.9091],\n",
      "        [-0.1384, -0.5422, -0.9966, -0.1182, -0.4581],\n",
      "        [-0.1832, -0.2330, -0.2424, -0.2583, -0.0949],\n",
      "        [-0.3543, -0.4698, -0.6999, -0.5083, -0.1193],\n",
      "        [-0.9517, -0.2098, -0.7045, -0.8122, -0.8450]]) torch.Size([5, 5])\n",
      "tensor([[0.3646, 0.5672, 0.8856, 0.8008, 0.0909],\n",
      "        [0.8616, 0.4578, 0.0034, 0.8818, 0.5419],\n",
      "        [0.8168, 0.7670, 0.7576, 0.7417, 0.9051],\n",
      "        [0.6457, 0.5302, 0.3001, 0.4917, 0.8807],\n",
      "        [0.0483, 0.7902, 0.2955, 0.1878, 0.1550]]) torch.Size([5, 5])\n"
     ]
    }
   ],
   "source": [
    "# Example of broadcasting\n",
    "x1 = torch.rand((5, 5))\n",
    "x2 = torch.ones((1, 5))\n",
    "\n",
    "z1 = x1 - x2\n",
    "z2 = x1**x2\n",
    "\n",
    "print(z1, z1.shape)\n",
    "print(z2, z2.shape)"
   ]
  },
  {
   "cell_type": "code",
   "execution_count": 14,
   "metadata": {},
   "outputs": [
    {
     "name": "stdout",
     "output_type": "stream",
     "text": [
      "tensor(6)\n",
      "tensor(3) tensor(2)\n",
      "tensor(1) tensor(0)\n",
      "tensor([1, 2, 3])\n",
      "tensor(2.)\n",
      "tensor([False, False, False])\n",
      "tensor([7, 8, 9]) tensor([2, 1, 0])\n"
     ]
    }
   ],
   "source": [
    "# Other useful tensor operations\n",
    "x = torch.tensor([1, 2, 3])\n",
    "y = torch.tensor([9, 8, 7])\n",
    "\n",
    "sum_x = torch.sum(x, dim=0) # sum of x across dim=0 (the only dim in this case)\n",
    "values_max, indices_max = torch.max(x, dim=0) # x.max(dim=0)\n",
    "values_min, indices_min = torch.min(x, dim=0) # x.min(dim=0)\n",
    "abs_x = torch.abs(x) # abs() applied to every element\n",
    "mean_x = torch.mean(x.float(), dim=0) # mean requires x to be a float\n",
    "eq_xy = torch.eq(x, y) # element wise comparison\n",
    "sorted_y, indices_y = torch.sort(y, dim=0, descending=False)\n",
    "\n",
    "print(sum_x)\n",
    "print(values_max, indices_max)\n",
    "print(values_min, indices_min)\n",
    "print(abs_x)\n",
    "print(mean_x)\n",
    "print(eq_xy)\n",
    "print(sorted_y, indices_y)"
   ]
  },
  {
   "cell_type": "code",
   "execution_count": 15,
   "metadata": {},
   "outputs": [
    {
     "name": "stdout",
     "output_type": "stream",
     "text": [
      "tensor(2)\n",
      "tensor(0)\n",
      "tensor([1, 2, 3])\n",
      "tensor([7, 7, 7])\n"
     ]
    }
   ],
   "source": [
    "argmax_x = torch.argmax(x, dim=0) # index of the maximum value\n",
    "argmin_x = torch.argmin(x, dim=0) # index of the minimum value\n",
    "\n",
    "clamp_x = torch.clamp(x, min=0) # all values < 0 set to 0 and values > 0 unchanged (ReLU)\n",
    "clamp_y = torch.clamp(y, min=0, max=7) # values greater than 7 also clamped\n",
    "\n",
    "print(argmax_x)\n",
    "print(argmin_x)\n",
    "print(clamp_x)\n",
    "print(clamp_y)"
   ]
  },
  {
   "cell_type": "code",
   "execution_count": 16,
   "metadata": {},
   "outputs": [
    {
     "name": "stdout",
     "output_type": "stream",
     "text": [
      "tensor(True) tensor(False)\n"
     ]
    }
   ],
   "source": [
    "x = torch.tensor([1, 0, 1, 1, 1], dtype=torch.bool) # boolean values\n",
    "z1 = torch.any(x) # x.any()\n",
    "z2 = torch.all(x) # x.all()\n",
    "\n",
    "print(z1, z2)"
   ]
  }
 ],
 "metadata": {
  "kernelspec": {
   "display_name": "Python 3",
   "language": "python",
   "name": "python3"
  },
  "language_info": {
   "codemirror_mode": {
    "name": "ipython",
    "version": 3
   },
   "file_extension": ".py",
   "mimetype": "text/x-python",
   "name": "python",
   "nbconvert_exporter": "python",
   "pygments_lexer": "ipython3",
   "version": "3.9.12"
  }
 },
 "nbformat": 4,
 "nbformat_minor": 2
}
