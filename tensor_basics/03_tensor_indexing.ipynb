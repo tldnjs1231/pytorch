{
 "cells": [
  {
   "cell_type": "code",
   "execution_count": 1,
   "metadata": {},
   "outputs": [],
   "source": [
    "import torch"
   ]
  },
  {
   "cell_type": "code",
   "execution_count": 2,
   "metadata": {},
   "outputs": [
    {
     "name": "stdout",
     "output_type": "stream",
     "text": [
      "torch.Size([10, 25])\n"
     ]
    },
    {
     "data": {
      "text/plain": [
       "tensor([[0.4540, 0.2821, 0.1010, 0.8375, 0.7844, 0.0284, 0.2104, 0.4453, 0.3774,\n",
       "         0.9091, 0.7464, 0.3854, 0.9051, 0.6324, 0.3575, 0.2062, 0.0077, 0.2429,\n",
       "         0.1533, 0.2243, 0.9263, 0.5762, 0.7479, 0.6345, 0.1683],\n",
       "        [0.4056, 0.5177, 0.1345, 0.3542, 0.0441, 0.3875, 0.1458, 0.1837, 0.6646,\n",
       "         0.1358, 0.5116, 0.4353, 0.1721, 0.0531, 0.5879, 0.7717, 0.7622, 0.5077,\n",
       "         0.2199, 0.4236, 0.7113, 0.1732, 0.2262, 0.0231, 0.2821],\n",
       "        [0.9833, 0.7962, 0.4258, 0.3246, 0.7161, 0.5988, 0.6729, 0.1404, 0.1018,\n",
       "         0.8267, 0.4542, 0.9009, 0.9212, 0.0591, 0.5295, 0.0370, 0.4000, 0.5880,\n",
       "         0.0804, 0.2776, 0.9288, 0.8411, 0.7544, 0.3138, 0.4282],\n",
       "        [0.4726, 0.6471, 0.1308, 0.4493, 0.9565, 0.4617, 0.9753, 0.8355, 0.2185,\n",
       "         0.7193, 0.3766, 0.4075, 0.2561, 0.6352, 0.5055, 0.0932, 0.3405, 0.9848,\n",
       "         0.5676, 0.2224, 0.9844, 0.9365, 0.5896, 0.2356, 0.4139],\n",
       "        [0.9386, 0.4624, 0.6259, 0.1183, 0.2324, 0.8121, 0.2299, 0.2306, 0.2611,\n",
       "         0.1895, 0.2350, 0.5377, 0.7799, 0.1015, 0.9192, 0.7063, 0.5600, 0.2063,\n",
       "         0.3239, 0.4888, 0.9767, 0.5028, 0.9137, 0.5683, 0.9436]])"
      ]
     },
     "execution_count": 2,
     "metadata": {},
     "output_type": "execute_result"
    }
   ],
   "source": [
    "batch_size = 10\n",
    "features = 25\n",
    "x = torch.rand((batch_size, features))\n",
    "\n",
    "print(x.shape)\n",
    "x[:5]"
   ]
  },
  {
   "cell_type": "code",
   "execution_count": 3,
   "metadata": {},
   "outputs": [
    {
     "name": "stdout",
     "output_type": "stream",
     "text": [
      "torch.Size([25])\n",
      "torch.Size([10])\n",
      "torch.Size([10])\n",
      "tensor(0.4540)\n",
      "tensor(100.)\n"
     ]
    }
   ],
   "source": [
    "# Get all features for the first example from the batch\n",
    "print(x[0].shape) # x[0, :].shape\n",
    "\n",
    "# Get the first feature for all examples\n",
    "print(x[:, 0].shape)\n",
    "\n",
    "# Access the first ten features of the third example\n",
    "print(x[2, :10].shape)\n",
    "\n",
    "# Assign certain elements\n",
    "print(x[0, 0])\n",
    "x[0, 0] = 100\n",
    "print(x[0, 0])"
   ]
  },
  {
   "cell_type": "code",
   "execution_count": 4,
   "metadata": {},
   "outputs": [
    {
     "name": "stdout",
     "output_type": "stream",
     "text": [
      "tensor([0, 1, 2, 3, 4, 5, 6, 7, 8, 9])\n",
      "tensor([2, 5, 8])\n"
     ]
    }
   ],
   "source": [
    "# Fancy indexing\n",
    "x = torch.arange(10)\n",
    "indices = [2, 5, 8]\n",
    "\n",
    "print(x)\n",
    "print(x[indices])"
   ]
  },
  {
   "cell_type": "code",
   "execution_count": 5,
   "metadata": {},
   "outputs": [
    {
     "name": "stdout",
     "output_type": "stream",
     "text": [
      "tensor([[0.2877, 0.5348, 0.8790, 0.2629, 0.1553],\n",
      "        [0.2548, 0.1270, 0.1357, 0.2097, 0.9493],\n",
      "        [0.1491, 0.8774, 0.8622, 0.6382, 0.9651]])\n",
      "tensor([0.9493, 0.2877])\n"
     ]
    }
   ],
   "source": [
    "x = torch.rand((3, 5))\n",
    "rows = torch.tensor([1, 0])\n",
    "cols = torch.tensor([4, 0])\n",
    "\n",
    "print(x)\n",
    "print(x[rows, cols]) # second row fifth column (1, 4), first row first column (0, 0)"
   ]
  },
  {
   "cell_type": "code",
   "execution_count": 6,
   "metadata": {},
   "outputs": [
    {
     "name": "stdout",
     "output_type": "stream",
     "text": [
      "tensor([0, 1, 9])\n",
      "tensor([0, 2, 4, 6, 8])\n"
     ]
    }
   ],
   "source": [
    "# More advanced indexing\n",
    "x = torch.arange(10)\n",
    "print(x[(x < 2) | (x > 8)])\n",
    "print(x[x.remainder(2) == 0])"
   ]
  },
  {
   "cell_type": "code",
   "execution_count": 7,
   "metadata": {},
   "outputs": [
    {
     "name": "stdout",
     "output_type": "stream",
     "text": [
      "tensor([ 0,  2,  4,  6,  8, 10,  6,  7,  8,  9])\n",
      "tensor([0, 1, 2, 3, 4])\n"
     ]
    }
   ],
   "source": [
    "# Useful operations for indexing\n",
    "t1 = torch.where(x > 5, x, x * 2) # all values greater than 5 yield x, else x*2\n",
    "t2 = torch.tensor([0, 0, 1, 2, 2, 3, 4]).unique()\n",
    "\n",
    "print(t1)\n",
    "print(t2)"
   ]
  },
  {
   "cell_type": "code",
   "execution_count": 8,
   "metadata": {},
   "outputs": [
    {
     "name": "stdout",
     "output_type": "stream",
     "text": [
      "1 3\n",
      "10 125\n"
     ]
    }
   ],
   "source": [
    "x = torch.arange(10)\n",
    "y = torch.rand((5, 5, 5)) # (5 x 5 x 5)\n",
    "\n",
    "print(x.ndimension(), y.ndimension()) # the number of dimensions\n",
    "print(x.numel(), y.numel()) # the number of elements"
   ]
  }
 ],
 "metadata": {
  "kernelspec": {
   "display_name": "Python 3",
   "language": "python",
   "name": "python3"
  },
  "language_info": {
   "codemirror_mode": {
    "name": "ipython",
    "version": 3
   },
   "file_extension": ".py",
   "mimetype": "text/x-python",
   "name": "python",
   "nbconvert_exporter": "python",
   "pygments_lexer": "ipython3",
   "version": "3.9.12"
  }
 },
 "nbformat": 4,
 "nbformat_minor": 2
}
